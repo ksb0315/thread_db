{
 "cells": [
  {
   "cell_type": "code",
   "execution_count": 2,
   "id": "ec5c1eee",
   "metadata": {},
   "outputs": [
    {
     "name": "stdout",
     "output_type": "stream",
     "text": [
      "Defaulting to user installation because normal site-packages is not writeable\n",
      "Requirement already satisfied: pymongo in c:\\users\\sunbum\\appdata\\roaming\\python\\python39\\site-packages (4.3.3)\n",
      "Requirement already satisfied: dnspython<3.0.0,>=1.16.0 in c:\\users\\sunbum\\appdata\\roaming\\python\\python39\\site-packages (from pymongo) (2.2.1)\n",
      "Note: you may need to restart the kernel to use updated packages.\n"
     ]
    }
   ],
   "source": [
    "pip install pymongo"
   ]
  },
  {
   "cell_type": "code",
   "execution_count": 3,
   "id": "0fbd4278",
   "metadata": {},
   "outputs": [],
   "source": [
    "import pymongo\n",
    "conn = pymongo.MongoClient()"
   ]
  },
  {
   "cell_type": "code",
   "execution_count": 9,
   "id": "c6076417",
   "metadata": {},
   "outputs": [],
   "source": [
    "db = conn.test\n",
    "db1 = conn['test1']"
   ]
  },
  {
   "cell_type": "code",
   "execution_count": 15,
   "id": "8d552b81",
   "metadata": {},
   "outputs": [
    {
     "name": "stdout",
     "output_type": "stream",
     "text": [
      "Database(MongoClient(host=['localhost:27017'], document_class=dict, tz_aware=False, connect=True), 'test')\n",
      "-----------------------------------------------------------------------------------------------------------\n",
      "['_BaseObject__codec_options', '_BaseObject__read_concern', '_BaseObject__read_preference', '_BaseObject__write_concern', '_Database__client', '_Database__name', '__bool__', '__class__', '__class_getitem__', '__delattr__', '__dict__', '__dir__', '__doc__', '__eq__', '__format__', '__ge__', '__getattr__', '__getattribute__', '__getitem__', '__gt__', '__hash__', '__init__', '__init_subclass__', '__iter__', '__le__', '__lt__', '__module__', '__ne__', '__new__', '__next__', '__orig_bases__', '__parameters__', '__reduce__', '__reduce_ex__', '__repr__', '__setattr__', '__sizeof__', '__slots__', '__str__', '__subclasshook__', '__weakref__', '_command', '_drop_helper', '_is_protocol', '_list_collections', '_read_preference_for', '_retryable_read_command', '_timeout', '_write_concern_for', 'aggregate', 'client', 'codec_options', 'command', 'create_collection', 'dereference', 'drop_collection', 'get_collection', 'list_collection_names', 'list_collections', 'name', 'next', 'read_concern', 'read_preference', 'validate_collection', 'watch', 'with_options', 'write_concern']\n",
      "-----------------------------------------------------------------------------------------------------------\n",
      "test\n",
      "-----------------------------------------------------------------------------------------------------------\n"
     ]
    }
   ],
   "source": [
    "dbs = [db, dir(db), db.name]\n",
    "for d in dbs:\n",
    "    print(d)\n",
    "    print('-----------------------------------------------------------------------------------------------------------')"
   ]
  },
  {
   "cell_type": "code",
   "execution_count": 18,
   "id": "ab1121d8",
   "metadata": {},
   "outputs": [
    {
     "name": "stdout",
     "output_type": "stream",
     "text": [
      "Collection(Database(MongoClient(host=['localhost:27017'], document_class=dict, tz_aware=False, connect=True), 'test'), 'test_collection')\n"
     ]
    }
   ],
   "source": [
    "test_col = db.test_collection\n",
    "print(test_col)"
   ]
  },
  {
   "cell_type": "code",
   "execution_count": 30,
   "id": "be0b78e3",
   "metadata": {},
   "outputs": [
    {
     "data": {
      "text/plain": [
       "<pymongo.results.InsertOneResult at 0x23a551a9dc0>"
      ]
     },
     "execution_count": 30,
     "metadata": {},
     "output_type": "execute_result"
    }
   ],
   "source": [
    "post = {\"author\" : \"Kwon\", \"text\" : \"My first blog post\"}\n",
    "test_col.insert_one(post)\n",
    "# test_col.insert_one(\"author\" : \"Kwon\", \"text\" : \"My first blog post\") 와 동일함"
   ]
  },
  {
   "cell_type": "code",
   "execution_count": 31,
   "id": "69f43219",
   "metadata": {},
   "outputs": [
    {
     "data": {
      "text/plain": [
       "<pymongo.results.InsertManyResult at 0x23a55b9e760>"
      ]
     },
     "execution_count": 31,
     "metadata": {},
     "output_type": "execute_result"
    }
   ],
   "source": [
    "posts = [\n",
    "    {\"author\" : \"Bae\", \"text\" : \"My second blog post\"},\n",
    "    {\"author\" : \"Choi\", \"text\" : \"My third blog post\"},\n",
    "    {\"author\" : \"Kim\", \"text\" : \"My fourth blog post\"}\n",
    "]\n",
    "test_col.insert_many(posts)"
   ]
  },
  {
   "cell_type": "code",
   "execution_count": 32,
   "id": "e856a710",
   "metadata": {},
   "outputs": [
    {
     "name": "stdout",
     "output_type": "stream",
     "text": [
      "{'_id': ObjectId('63c8eb5e633a405b789fd9a7'), 'author': 'Kwon', 'text': 'My first blog post'}\n",
      "{'_id': ObjectId('63c8eb5f633a405b789fd9a8'), 'author': 'Bae', 'text': 'My second blog post'}\n",
      "{'_id': ObjectId('63c8eb5f633a405b789fd9a9'), 'author': 'Choi', 'text': 'My third blog post'}\n",
      "{'_id': ObjectId('63c8eb5f633a405b789fd9aa'), 'author': 'Kim', 'text': 'My fourth blog post'}\n"
     ]
    }
   ],
   "source": [
    "for test in test_col.find():\n",
    "    print(test)"
   ]
  },
  {
   "cell_type": "code",
   "execution_count": 34,
   "id": "8f51ba9a",
   "metadata": {},
   "outputs": [
    {
     "name": "stdout",
     "output_type": "stream",
     "text": [
      "{'_id': ObjectId('63c8eb5e633a405b789fd9a7'), 'author': 'Kwon', 'text': 'My first blog post', 'age': 10}\n",
      "{'_id': ObjectId('63c8eb5f633a405b789fd9a8'), 'author': 'Bae', 'text': 'My second blog post', 'age': 0}\n",
      "{'_id': ObjectId('63c8eb5f633a405b789fd9a9'), 'author': 'Choi', 'text': 'My third blog post', 'age': 0}\n",
      "{'_id': ObjectId('63c8eb5f633a405b789fd9aa'), 'author': 'Kim', 'text': 'My fourth blog post', 'age': 0}\n"
     ]
    }
   ],
   "source": [
    "# 전체 document 수정\n",
    "test_col.update_many({}, {'$set' : {'age' : 0}})\n",
    "\n",
    "# 특정 document 수정\n",
    "test_col.update_many({'author' : 'Kwon'}, {'$set' : {'age' : 10}})\n",
    "\n",
    "# 확인\n",
    "for test in test_col.find():\n",
    "    print(test)"
   ]
  },
  {
   "cell_type": "code",
   "execution_count": null,
   "id": "def9aec9",
   "metadata": {},
   "outputs": [],
   "source": []
  }
 ],
 "metadata": {
  "kernelspec": {
   "display_name": "Python 3 (ipykernel)",
   "language": "python",
   "name": "python3"
  },
  "language_info": {
   "codemirror_mode": {
    "name": "ipython",
    "version": 3
   },
   "file_extension": ".py",
   "mimetype": "text/x-python",
   "name": "python",
   "nbconvert_exporter": "python",
   "pygments_lexer": "ipython3",
   "version": "3.9.12"
  }
 },
 "nbformat": 4,
 "nbformat_minor": 5
}
